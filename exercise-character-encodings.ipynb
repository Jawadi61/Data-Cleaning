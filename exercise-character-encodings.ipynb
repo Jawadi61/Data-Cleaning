{
 "cells": [
  {
   "cell_type": "markdown",
   "id": "d4a7572a",
   "metadata": {
    "papermill": {
     "duration": 0.004826,
     "end_time": "2023-01-02T13:35:02.908599",
     "exception": false,
     "start_time": "2023-01-02T13:35:02.903773",
     "status": "completed"
    },
    "tags": []
   },
   "source": [
    "**This notebook is an exercise in the [Data Cleaning](https://www.kaggle.com/learn/data-cleaning) course.  You can reference the tutorial at [this link](https://www.kaggle.com/alexisbcook/character-encodings).**\n",
    "\n",
    "---\n"
   ]
  },
  {
   "cell_type": "markdown",
   "id": "2d177d73",
   "metadata": {
    "papermill": {
     "duration": 0.003719,
     "end_time": "2023-01-02T13:35:02.916403",
     "exception": false,
     "start_time": "2023-01-02T13:35:02.912684",
     "status": "completed"
    },
    "tags": []
   },
   "source": [
    "In this exercise, you'll apply what you learned in the **Character encodings** tutorial.\n",
    "\n",
    "# Setup\n",
    "\n",
    "The questions below will give you feedback on your work. Run the following cell to set up the feedback system."
   ]
  },
  {
   "cell_type": "code",
   "execution_count": 1,
   "id": "ae88d372",
   "metadata": {
    "execution": {
     "iopub.execute_input": "2023-01-02T13:35:02.926530Z",
     "iopub.status.busy": "2023-01-02T13:35:02.925833Z",
     "iopub.status.idle": "2023-01-02T13:35:03.005551Z",
     "shell.execute_reply": "2023-01-02T13:35:03.004320Z"
    },
    "papermill": {
     "duration": 0.087557,
     "end_time": "2023-01-02T13:35:03.008035",
     "exception": false,
     "start_time": "2023-01-02T13:35:02.920478",
     "status": "completed"
    },
    "tags": []
   },
   "outputs": [
    {
     "name": "stdout",
     "output_type": "stream",
     "text": [
      "Setup Complete\n"
     ]
    }
   ],
   "source": [
    "from learntools.core import binder\n",
    "binder.bind(globals())\n",
    "from learntools.data_cleaning.ex4 import *\n",
    "print(\"Setup Complete\")"
   ]
  },
  {
   "cell_type": "markdown",
   "id": "7ad1257e",
   "metadata": {
    "papermill": {
     "duration": 0.003888,
     "end_time": "2023-01-02T13:35:03.016580",
     "exception": false,
     "start_time": "2023-01-02T13:35:03.012692",
     "status": "completed"
    },
    "tags": []
   },
   "source": [
    "# Get our environment set up\n",
    "\n",
    "The first thing we'll need to do is load in the libraries we'll be using."
   ]
  },
  {
   "cell_type": "code",
   "execution_count": 2,
   "id": "425cd24a",
   "metadata": {
    "execution": {
     "iopub.execute_input": "2023-01-02T13:35:03.026377Z",
     "iopub.status.busy": "2023-01-02T13:35:03.025832Z",
     "iopub.status.idle": "2023-01-02T13:35:03.030447Z",
     "shell.execute_reply": "2023-01-02T13:35:03.029222Z"
    },
    "papermill": {
     "duration": 0.012627,
     "end_time": "2023-01-02T13:35:03.033070",
     "exception": false,
     "start_time": "2023-01-02T13:35:03.020443",
     "status": "completed"
    },
    "tags": []
   },
   "outputs": [],
   "source": [
    "# modules we'll use\n",
    "import pandas as pd\n",
    "import numpy as np\n",
    "\n",
    "# helpful character encoding module\n",
    "import chardet\n",
    "\n",
    "# set seed for reproducibility\n",
    "np.random.seed(0)"
   ]
  },
  {
   "cell_type": "markdown",
   "id": "06218ddc",
   "metadata": {
    "papermill": {
     "duration": 0.004052,
     "end_time": "2023-01-02T13:35:03.041611",
     "exception": false,
     "start_time": "2023-01-02T13:35:03.037559",
     "status": "completed"
    },
    "tags": []
   },
   "source": [
    "# 1) What are encodings?\n",
    "\n",
    "You're working with a dataset composed of bytes.  Run the code cell below to print a sample entry."
   ]
  },
  {
   "cell_type": "code",
   "execution_count": 3,
   "id": "0a79f771",
   "metadata": {
    "execution": {
     "iopub.execute_input": "2023-01-02T13:35:03.051453Z",
     "iopub.status.busy": "2023-01-02T13:35:03.051126Z",
     "iopub.status.idle": "2023-01-02T13:35:03.056215Z",
     "shell.execute_reply": "2023-01-02T13:35:03.055057Z"
    },
    "papermill": {
     "duration": 0.013084,
     "end_time": "2023-01-02T13:35:03.058928",
     "exception": false,
     "start_time": "2023-01-02T13:35:03.045844",
     "status": "completed"
    },
    "tags": []
   },
   "outputs": [
    {
     "name": "stdout",
     "output_type": "stream",
     "text": [
      "b'\\xa7A\\xa6n'\n",
      "data type: <class 'bytes'>\n"
     ]
    }
   ],
   "source": [
    "sample_entry = b'\\xa7A\\xa6n'\n",
    "print(sample_entry)\n",
    "print('data type:', type(sample_entry))"
   ]
  },
  {
   "cell_type": "markdown",
   "id": "b7e8a17c",
   "metadata": {
    "papermill": {
     "duration": 0.003977,
     "end_time": "2023-01-02T13:35:03.067169",
     "exception": false,
     "start_time": "2023-01-02T13:35:03.063192",
     "status": "completed"
    },
    "tags": []
   },
   "source": [
    "You notice that it doesn't use the standard UTF-8 encoding. \n",
    "\n",
    "Use the next code cell to create a variable `new_entry` that changes the encoding from `\"big5-tw\"` to `\"utf-8\"`.  `new_entry` should have the bytes datatype."
   ]
  },
  {
   "cell_type": "code",
   "execution_count": 4,
   "id": "fcdc9727",
   "metadata": {
    "execution": {
     "iopub.execute_input": "2023-01-02T13:35:03.077486Z",
     "iopub.status.busy": "2023-01-02T13:35:03.076583Z",
     "iopub.status.idle": "2023-01-02T13:35:03.087462Z",
     "shell.execute_reply": "2023-01-02T13:35:03.086585Z"
    },
    "papermill": {
     "duration": 0.018501,
     "end_time": "2023-01-02T13:35:03.089793",
     "exception": false,
     "start_time": "2023-01-02T13:35:03.071292",
     "status": "completed"
    },
    "tags": []
   },
   "outputs": [
    {
     "data": {
      "application/javascript": [
       "parent.postMessage({\"jupyterEvent\": \"custom.exercise_interaction\", \"data\": {\"outcomeType\": 1, \"valueTowardsCompletion\": 0.3333333333333333, \"interactionType\": 1, \"questionType\": 1, \"questionId\": \"1_EncodingsIntro\", \"learnToolsVersion\": \"0.3.4\", \"failureMessage\": \"\", \"exceptionClass\": \"\", \"trace\": \"\"}}, \"*\")"
      ],
      "text/plain": [
       "<IPython.core.display.Javascript object>"
      ]
     },
     "metadata": {},
     "output_type": "display_data"
    },
    {
     "data": {
      "text/markdown": [
       "<span style=\"color:#33cc33\">Correct</span>"
      ],
      "text/plain": [
       "Correct"
      ]
     },
     "metadata": {},
     "output_type": "display_data"
    }
   ],
   "source": [
    "before = sample_entry.decode(\"big5-tw\")\n",
    "new_entry = before.encode()\n",
    "\n",
    "# Check your answer\n",
    "q1.check()"
   ]
  },
  {
   "cell_type": "code",
   "execution_count": 5,
   "id": "d711e13a",
   "metadata": {
    "execution": {
     "iopub.execute_input": "2023-01-02T13:35:03.101895Z",
     "iopub.status.busy": "2023-01-02T13:35:03.100454Z",
     "iopub.status.idle": "2023-01-02T13:35:03.105326Z",
     "shell.execute_reply": "2023-01-02T13:35:03.104438Z"
    },
    "papermill": {
     "duration": 0.013258,
     "end_time": "2023-01-02T13:35:03.107880",
     "exception": false,
     "start_time": "2023-01-02T13:35:03.094622",
     "status": "completed"
    },
    "tags": []
   },
   "outputs": [],
   "source": [
    "# Lines below will give you a hint or solution code\n",
    "#q1.hint()\n",
    "#q1.solution()"
   ]
  },
  {
   "cell_type": "markdown",
   "id": "5f495824",
   "metadata": {
    "papermill": {
     "duration": 0.00419,
     "end_time": "2023-01-02T13:35:03.116854",
     "exception": false,
     "start_time": "2023-01-02T13:35:03.112664",
     "status": "completed"
    },
    "tags": []
   },
   "source": [
    "# 2) Reading in files with encoding problems\n",
    "\n",
    "Use the code cell below to read in this file at path `\"../input/fatal-police-shootings-in-the-us/PoliceKillingsUS.csv\"`.  \n",
    "\n",
    "Figure out what the correct encoding should be and read in the file to a DataFrame `police_killings`."
   ]
  },
  {
   "cell_type": "code",
   "execution_count": 6,
   "id": "546f7ce0",
   "metadata": {
    "execution": {
     "iopub.execute_input": "2023-01-02T13:35:03.128035Z",
     "iopub.status.busy": "2023-01-02T13:35:03.127664Z",
     "iopub.status.idle": "2023-01-02T13:35:04.508962Z",
     "shell.execute_reply": "2023-01-02T13:35:04.507451Z"
    },
    "papermill": {
     "duration": 1.390682,
     "end_time": "2023-01-02T13:35:04.511905",
     "exception": false,
     "start_time": "2023-01-02T13:35:03.121223",
     "status": "completed"
    },
    "tags": []
   },
   "outputs": [
    {
     "name": "stdout",
     "output_type": "stream",
     "text": [
      "{'encoding': 'Windows-1252', 'confidence': 0.73, 'language': ''}\n"
     ]
    },
    {
     "data": {
      "application/javascript": [
       "parent.postMessage({\"jupyterEvent\": \"custom.exercise_interaction\", \"data\": {\"outcomeType\": 1, \"valueTowardsCompletion\": 0.3333333333333333, \"interactionType\": 1, \"questionType\": 1, \"questionId\": \"2_ReadIn\", \"learnToolsVersion\": \"0.3.4\", \"failureMessage\": \"\", \"exceptionClass\": \"\", \"trace\": \"\"}}, \"*\")"
      ],
      "text/plain": [
       "<IPython.core.display.Javascript object>"
      ]
     },
     "metadata": {},
     "output_type": "display_data"
    },
    {
     "data": {
      "text/markdown": [
       "<span style=\"color:#33cc33\">Correct</span>"
      ],
      "text/plain": [
       "Correct"
      ]
     },
     "metadata": {},
     "output_type": "display_data"
    }
   ],
   "source": [
    "# TODO: Load in the DataFrame correctly.\n",
    "\n",
    "with open(\"../input/fatal-police-shootings-in-the-us/PoliceKillingsUS.csv\", 'rb') as rawdata:\n",
    "    result = chardet.detect(rawdata.read(100000))\n",
    "    print(result)\n",
    "police_killings = pd.read_csv(\"../input/fatal-police-shootings-in-the-us/PoliceKillingsUS.csv\", encoding='Windows-1252')\n",
    "\n",
    "# Check your answer\n",
    "q2.check()"
   ]
  },
  {
   "cell_type": "markdown",
   "id": "fd1bbd8a",
   "metadata": {
    "papermill": {
     "duration": 0.004494,
     "end_time": "2023-01-02T13:35:04.521591",
     "exception": false,
     "start_time": "2023-01-02T13:35:04.517097",
     "status": "completed"
    },
    "tags": []
   },
   "source": [
    "Feel free to use any additional code cells for supplemental work.  To get credit for finishing this question, you'll need to run `q2.check()` and get a result of **Correct**."
   ]
  },
  {
   "cell_type": "code",
   "execution_count": 7,
   "id": "f058d3cd",
   "metadata": {
    "execution": {
     "iopub.execute_input": "2023-01-02T13:35:04.533368Z",
     "iopub.status.busy": "2023-01-02T13:35:04.532997Z",
     "iopub.status.idle": "2023-01-02T13:35:04.538163Z",
     "shell.execute_reply": "2023-01-02T13:35:04.537162Z"
    },
    "papermill": {
     "duration": 0.012926,
     "end_time": "2023-01-02T13:35:04.540008",
     "exception": false,
     "start_time": "2023-01-02T13:35:04.527082",
     "status": "completed"
    },
    "tags": []
   },
   "outputs": [],
   "source": [
    "# (Optional) Use this code cell for any additional work."
   ]
  },
  {
   "cell_type": "code",
   "execution_count": 8,
   "id": "df4a1bdd",
   "metadata": {
    "execution": {
     "iopub.execute_input": "2023-01-02T13:35:04.553259Z",
     "iopub.status.busy": "2023-01-02T13:35:04.552846Z",
     "iopub.status.idle": "2023-01-02T13:35:04.557822Z",
     "shell.execute_reply": "2023-01-02T13:35:04.556437Z"
    },
    "papermill": {
     "duration": 0.013804,
     "end_time": "2023-01-02T13:35:04.560029",
     "exception": false,
     "start_time": "2023-01-02T13:35:04.546225",
     "status": "completed"
    },
    "tags": []
   },
   "outputs": [],
   "source": [
    "# Lines below will give you a hint or solution code\n",
    "#q2.hint()\n",
    "#q2.solution()"
   ]
  },
  {
   "cell_type": "markdown",
   "id": "e706839b",
   "metadata": {
    "papermill": {
     "duration": 0.005438,
     "end_time": "2023-01-02T13:35:04.570512",
     "exception": false,
     "start_time": "2023-01-02T13:35:04.565074",
     "status": "completed"
    },
    "tags": []
   },
   "source": [
    "# 3) Saving your files with UTF-8 encoding\n",
    "\n",
    "Save a version of the police killings dataset to CSV with UTF-8 encoding.  Your answer will be marked correct after saving this file.  \n",
    "\n",
    "Note: When using the `to_csv()` method, supply only the name of the file (e.g., `\"my_file.csv\"`).  This saves the file at the filepath `\"/kaggle/working/my_file.csv\"`."
   ]
  },
  {
   "cell_type": "code",
   "execution_count": 9,
   "id": "9ee0fc54",
   "metadata": {
    "execution": {
     "iopub.execute_input": "2023-01-02T13:35:04.582016Z",
     "iopub.status.busy": "2023-01-02T13:35:04.581590Z",
     "iopub.status.idle": "2023-01-02T13:35:04.609480Z",
     "shell.execute_reply": "2023-01-02T13:35:04.608484Z"
    },
    "papermill": {
     "duration": 0.036124,
     "end_time": "2023-01-02T13:35:04.611425",
     "exception": false,
     "start_time": "2023-01-02T13:35:04.575301",
     "status": "completed"
    },
    "tags": []
   },
   "outputs": [
    {
     "data": {
      "application/javascript": [
       "parent.postMessage({\"jupyterEvent\": \"custom.exercise_interaction\", \"data\": {\"outcomeType\": 1, \"valueTowardsCompletion\": 0.3333333333333333, \"interactionType\": 1, \"questionType\": 2, \"questionId\": \"3_SaveCSV\", \"learnToolsVersion\": \"0.3.4\", \"failureMessage\": \"\", \"exceptionClass\": \"\", \"trace\": \"\"}}, \"*\")"
      ],
      "text/plain": [
       "<IPython.core.display.Javascript object>"
      ]
     },
     "metadata": {},
     "output_type": "display_data"
    },
    {
     "data": {
      "text/markdown": [
       "<span style=\"color:#33cc33\">Correct</span>"
      ],
      "text/plain": [
       "Correct"
      ]
     },
     "metadata": {},
     "output_type": "display_data"
    }
   ],
   "source": [
    "# TODO: Save the police killings dataset to CSV\n",
    "police_killings.to_csv(\"my_file.csv\")\n",
    "\n",
    "# Check your answer\n",
    "q3.check()"
   ]
  },
  {
   "cell_type": "code",
   "execution_count": 10,
   "id": "224d967d",
   "metadata": {
    "execution": {
     "iopub.execute_input": "2023-01-02T13:35:04.623099Z",
     "iopub.status.busy": "2023-01-02T13:35:04.622743Z",
     "iopub.status.idle": "2023-01-02T13:35:04.627131Z",
     "shell.execute_reply": "2023-01-02T13:35:04.626144Z"
    },
    "papermill": {
     "duration": 0.01231,
     "end_time": "2023-01-02T13:35:04.628975",
     "exception": false,
     "start_time": "2023-01-02T13:35:04.616665",
     "status": "completed"
    },
    "tags": []
   },
   "outputs": [],
   "source": [
    "# Lines below will give you a hint or solution code\n",
    "#q3.hint()\n",
    "#q3.solution()"
   ]
  },
  {
   "cell_type": "markdown",
   "id": "f1378294",
   "metadata": {
    "papermill": {
     "duration": 0.004558,
     "end_time": "2023-01-02T13:35:04.638511",
     "exception": false,
     "start_time": "2023-01-02T13:35:04.633953",
     "status": "completed"
    },
    "tags": []
   },
   "source": [
    "# (Optional) More practice\n",
    "\n",
    "Check out [this dataset of files in different character encodings](https://www.kaggle.com/rtatman/character-encoding-examples). Can you read in all the files with their original encodings and them save them out as UTF-8 files?\n",
    "\n",
    "If you have a file that's in UTF-8 but has just a couple of weird-looking characters in it, you can try out the [ftfy module](https://ftfy.readthedocs.io/en/latest/#) and see if it helps. \n",
    "\n",
    "# Keep going\n",
    "\n",
    "In the final lesson, learn how to [**clean up inconsistent text entries**](https://www.kaggle.com/alexisbcook/inconsistent-data-entry) in your dataset."
   ]
  },
  {
   "cell_type": "markdown",
   "id": "289819d9",
   "metadata": {
    "papermill": {
     "duration": 0.004543,
     "end_time": "2023-01-02T13:35:04.647902",
     "exception": false,
     "start_time": "2023-01-02T13:35:04.643359",
     "status": "completed"
    },
    "tags": []
   },
   "source": [
    "---\n",
    "\n",
    "\n",
    "\n",
    "\n",
    "*Have questions or comments? Visit the [course discussion forum](https://www.kaggle.com/learn/data-cleaning/discussion) to chat with other learners.*"
   ]
  }
 ],
 "metadata": {
  "kernelspec": {
   "display_name": "Python 3",
   "language": "python",
   "name": "python3"
  },
  "language_info": {
   "codemirror_mode": {
    "name": "ipython",
    "version": 3
   },
   "file_extension": ".py",
   "mimetype": "text/x-python",
   "name": "python",
   "nbconvert_exporter": "python",
   "pygments_lexer": "ipython3",
   "version": "3.7.12"
  },
  "papermill": {
   "default_parameters": {},
   "duration": 9.562531,
   "end_time": "2023-01-02T13:35:05.374864",
   "environment_variables": {},
   "exception": null,
   "input_path": "__notebook__.ipynb",
   "output_path": "__notebook__.ipynb",
   "parameters": {},
   "start_time": "2023-01-02T13:34:55.812333",
   "version": "2.3.4"
  }
 },
 "nbformat": 4,
 "nbformat_minor": 5
}
